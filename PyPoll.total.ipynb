{
 "cells": [
  {
   "cell_type": "code",
   "execution_count": 2,
   "metadata": {},
   "outputs": [
    {
     "name": "stdout",
     "output_type": "stream",
     "text": [
      "<_csv.reader object at 0x10c614d50>\n",
      "CSV Header: ['Voter ID', 'County', 'Candidate']\n"
     ]
    }
   ],
   "source": [
    "import os\n",
    "import csv\n",
    "\n",
    "election_data_path = os.path.join('election_data.csv')\n",
    "\n",
    "with open(election_data_path, newline='') as election_data:\n",
    "    \n",
    "    csvreader = csv.reader(election_data, delimiter=',')\n",
    "\n",
    "    print(csvreader)\n",
    "\n",
    "    election_data_header = next(csvreader)\n",
    "    print(f\"CSV Header: {election_data_header}\")"
   ]
  },
  {
   "cell_type": "code",
   "execution_count": 11,
   "metadata": {},
   "outputs": [
    {
     "name": "stdout",
     "output_type": "stream",
     "text": [
      "{'Khan': 2218231, 'Correy': 704200, 'Li': 492940, \"O'Tooley\": 105630}\n",
      "Election Results\n",
      "-------------------------\n",
      "Total Votes 3521001\n",
      "-------------------------\n",
      "Khan: 63.000% (2218231)\n",
      "Correy: 20.000% (704200)\n",
      "Li: 14.000% (492940)\n",
      "O'Tooley: 3.000% (105630)\n",
      "-------------------------\n",
      "Winner: Khan\n",
      "-------------------------\n",
      "\n"
     ]
    }
   ],
   "source": [
    "inputFileName = \"election_data.csv\"\n",
    "outputFileName = \"election_data_script.txt\"\n",
    "\n",
    "total_votes = 0\n",
    "winner = 0\n",
    "winner_candidate = \"\"\n",
    "candidates = 0\n",
    "votes_percentage = 0\n",
    "winner_candidate_summary = 0\n",
    "\n",
    "greatest_votes = [\"\", 0]\n",
    "candidates_list = []\n",
    "candidate_votes = {}\n",
    "\n",
    "\n",
    "with open(election_data_path) as election_data:\n",
    "    reader = csv.reader(election_data)\n",
    "    header = next (reader)\n",
    "    \n",
    "    for row in reader:\n",
    "        total_votes = total_votes + 1\n",
    "        candidates_name = row[2]\n",
    "        \n",
    "        if candidates_name not in candidates_list:\n",
    "            \n",
    "            candidates_list.append(candidates_name)\n",
    "\n",
    "            candidate_votes[candidates_name] = 0\n",
    "            \n",
    "        \n",
    "        candidate_votes[candidates_name] = candidate_votes[candidates_name] + 1\n",
    " \n",
    "print(candidate_votes)\n",
    "\n",
    "with open (outputFileName, \"w\") as txt_file:\n",
    "    election_results = (\n",
    "    f\"Election Results\\n\"\n",
    "    f\"-------------------------\\n\"\n",
    "    f\"Total Votes {total_votes}\\n\"\n",
    "    f\"-------------------------\\n\")\n",
    "    print(election_results, end=\"\")\n",
    "    txt_file.write(election_results)\n",
    "\n",
    "    for candidate in candidate_votes:\n",
    "        votes = candidate_votes.get(candidate)\n",
    "        \n",
    "        vote_precentage = float(votes)/float(total_votes)*100\n",
    "        if (votes > winner):\n",
    "            winner = votes\n",
    "            winner_candidate = candidate\n",
    "        voter_output = f\"{candidate}: {vote_precentage:.3f}% ({votes})\\n\"\n",
    "        print(voter_output, end=\"\")\n",
    "        txt_file.write(voter_output)\n",
    "        \n",
    "    winning_candidate_summary = (\n",
    "    f\"-------------------------\\n\"\n",
    "    f\"Winner: {winner_candidate}\\n\"\n",
    "    f\"-------------------------\\n\")\n",
    "    print(winning_candidate_summary)\n",
    "    txt_file.write(winning_candidate_summary)"
   ]
  },
  {
   "cell_type": "code",
   "execution_count": null,
   "metadata": {},
   "outputs": [],
   "source": []
  }
 ],
 "metadata": {
  "kernelspec": {
   "display_name": "Python 3",
   "language": "python",
   "name": "python3"
  },
  "language_info": {
   "codemirror_mode": {
    "name": "ipython",
    "version": 3
   },
   "file_extension": ".py",
   "mimetype": "text/x-python",
   "name": "python",
   "nbconvert_exporter": "python",
   "pygments_lexer": "ipython3",
   "version": "3.7.4"
  }
 },
 "nbformat": 4,
 "nbformat_minor": 2
}
